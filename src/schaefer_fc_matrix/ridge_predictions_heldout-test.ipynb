{
 "cells": [
  {
   "cell_type": "markdown",
   "metadata": {},
   "source": [
    "# Get predictions + performance of best Ridge model on heldout test set"
   ]
  },
  {
   "cell_type": "code",
   "execution_count": 1,
   "metadata": {},
   "outputs": [
    {
     "data": {
      "text/plain": [
       "<module 'brain_age_prediction.sklearn_utils' from '/home/laurar/brain_age_1D-CNN/src/brain_age_prediction/sklearn_utils.py'>"
      ]
     },
     "execution_count": 1,
     "metadata": {},
     "output_type": "execute_result"
    }
   ],
   "source": [
    "import numpy as np\n",
    "import pandas as pd\n",
    "import yaml\n",
    "import importlib\n",
    "\n",
    "# scikit-learn\n",
    "from sklearn.linear_model import Ridge\n",
    "from sklearn.metrics import mean_absolute_error, mean_squared_error, r2_score\n",
    "\n",
    "# own module\n",
    "from brain_age_prediction import utils, sklearn_utils\n",
    "importlib.reload(utils)\n",
    "importlib.reload(sklearn_utils)"
   ]
  },
  {
   "cell_type": "code",
   "execution_count": null,
   "metadata": {},
   "outputs": [],
   "source": [
    "# save path for predictions\n",
    "preds_save_path = '/ritter/share/projects/laura_riedel_thesis/predictions/'"
   ]
  },
  {
   "cell_type": "markdown",
   "metadata": {},
   "source": [
    "Retrain model with best performing alpha:"
   ]
  },
  {
   "cell_type": "code",
   "execution_count": 4,
   "metadata": {},
   "outputs": [
    {
     "data": {
      "text/plain": [
       "Ridge(alpha=2636.6508987303555, random_state=43)"
      ]
     },
     "execution_count": 4,
     "metadata": {},
     "output_type": "execute_result"
    }
   ],
   "source": [
    "seed = 43\n",
    "utils.make_reproducible(random_state=seed)\n",
    "# get data\n",
    "X_train, y_train, _, _, X_test, y_test = sklearn_utils.access_dataset(schaefer_variant='7n100p',no_0=True,normalise=True)\n",
    "X_heldout, y_heldout = sklearn_utils.access_datasplit(split='heldout_test',schaefer_variant='7n100p',no_0=True,normalise=True)\n",
    "\n",
    "# load ridge config\n",
    "with open('parameters/7n100p_alpha-2636.yaml', 'r') as f:\n",
    "    config = yaml.safe_load(f)\n",
    "\n",
    "# define model\n",
    "ridge_model = Ridge(alpha=config['parameters']['alpha'],\n",
    "                    random_state=seed)\n",
    "        \n",
    "# train\n",
    "ridge_model.fit(X_train, y_train)"
   ]
  },
  {
   "cell_type": "markdown",
   "metadata": {},
   "source": [
    "Confirm model performs the same as in alpha test:"
   ]
  },
  {
   "cell_type": "code",
   "execution_count": 5,
   "metadata": {},
   "outputs": [
    {
     "name": "stdout",
     "output_type": "stream",
     "text": [
      "test_mae 4.784899104197659\n",
      "test_loss 34.68214615333583\n",
      "test_r2 0.4414223029564829\n"
     ]
    }
   ],
   "source": [
    "y_pred_test = ridge_model.predict(X_test)\n",
    "print('test_mae',mean_absolute_error(y_test, y_pred_test))\n",
    "print('test_loss',mean_squared_error(y_test, y_pred_test))\n",
    "print('test_r2',r2_score(y_test, y_pred_test))"
   ]
  },
  {
   "cell_type": "markdown",
   "metadata": {},
   "source": [
    "Determine model performance on heldout test set:"
   ]
  },
  {
   "cell_type": "code",
   "execution_count": 6,
   "metadata": {},
   "outputs": [
    {
     "name": "stdout",
     "output_type": "stream",
     "text": [
      "test_mae 4.684324441528321\n",
      "test_loss 33.351581432477644\n",
      "test_r2 0.43730077958761704\n"
     ]
    }
   ],
   "source": [
    "y_pred_heldout = ridge_model.predict(X_heldout)\n",
    "print('test_mae',mean_absolute_error(y_heldout, y_pred_heldout))\n",
    "print('test_loss',mean_squared_error(y_heldout, y_pred_heldout))\n",
    "print('test_r2',r2_score(y_heldout, y_pred_heldout))"
   ]
  },
  {
   "cell_type": "code",
   "execution_count": 7,
   "metadata": {},
   "outputs": [
    {
     "data": {
      "text/plain": [
       "array([65.442215, 65.90221 , 60.72391 , ..., 66.05183 , 58.52454 ,\n",
       "       55.347454], dtype=float32)"
      ]
     },
     "execution_count": 7,
     "metadata": {},
     "output_type": "execute_result"
    }
   ],
   "source": [
    "y_pred_heldout"
   ]
  },
  {
   "cell_type": "code",
   "execution_count": null,
   "metadata": {},
   "outputs": [],
   "source": []
  }
 ],
 "metadata": {
  "kernelspec": {
   "display_name": "cuda02",
   "language": "python",
   "name": "python3"
  },
  "language_info": {
   "codemirror_mode": {
    "name": "ipython",
    "version": 3
   },
   "file_extension": ".py",
   "mimetype": "text/x-python",
   "name": "python",
   "nbconvert_exporter": "python",
   "pygments_lexer": "ipython3",
   "version": "3.10.14"
  }
 },
 "nbformat": 4,
 "nbformat_minor": 2
}
