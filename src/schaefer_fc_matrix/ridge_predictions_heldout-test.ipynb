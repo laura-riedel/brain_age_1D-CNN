{
 "cells": [
  {
   "cell_type": "markdown",
   "metadata": {},
   "source": [
    "# Get predictions + performance of best Ridge model on heldout test set"
   ]
  },
  {
   "cell_type": "code",
   "execution_count": 2,
   "metadata": {},
   "outputs": [
    {
     "data": {
      "text/plain": [
       "<module 'brain_age_prediction.sklearn_utils' from '/home/laurar/brain_age_1D-CNN/src/brain_age_prediction/sklearn_utils.py'>"
      ]
     },
     "execution_count": 2,
     "metadata": {},
     "output_type": "execute_result"
    }
   ],
   "source": [
    "# import numpy as np\n",
    "import pandas as pd\n",
    "import yaml\n",
    "import importlib\n",
    "\n",
    "# scikit-learn\n",
    "from sklearn.linear_model import Ridge\n",
    "from sklearn.metrics import mean_absolute_error, mean_squared_error, r2_score\n",
    "\n",
    "# own module\n",
    "from brain_age_prediction import utils, sklearn_utils\n",
    "importlib.reload(utils)\n",
    "importlib.reload(sklearn_utils)"
   ]
  },
  {
   "cell_type": "code",
   "execution_count": 3,
   "metadata": {},
   "outputs": [],
   "source": [
    "# save path for predictions\n",
    "preds_save_path = '/ritter/share/projects/laura_riedel_thesis/predictions/'"
   ]
  },
  {
   "cell_type": "markdown",
   "metadata": {},
   "source": [
    "Retrain model with best performing alpha:"
   ]
  },
  {
   "cell_type": "code",
   "execution_count": 4,
   "metadata": {},
   "outputs": [
    {
     "data": {
      "text/plain": [
       "Ridge(alpha=2636.6508987303555, random_state=43)"
      ]
     },
     "execution_count": 4,
     "metadata": {},
     "output_type": "execute_result"
    }
   ],
   "source": [
    "seed = 43\n",
    "utils.make_reproducible(random_state=seed)\n",
    "# get data\n",
    "X_train, y_train, _, _, X_test, y_test = sklearn_utils.access_dataset(schaefer_variant='7n100p',no_0=True,normalise=True)\n",
    "X_heldout, y_heldout = sklearn_utils.access_datasplit(split='heldout_test',schaefer_variant='7n100p',no_0=True,normalise=True)\n",
    "\n",
    "# load ridge config\n",
    "with open('parameters/7n100p_alpha-2636.yaml', 'r') as f:\n",
    "    config = yaml.safe_load(f)\n",
    "\n",
    "# define model\n",
    "ridge_model = Ridge(alpha=config['parameters']['alpha'],\n",
    "                    random_state=seed)\n",
    "        \n",
    "# train\n",
    "ridge_model.fit(X_train, y_train)"
   ]
  },
  {
   "cell_type": "markdown",
   "metadata": {},
   "source": [
    "Confirm model performs the same as in alpha test:"
   ]
  },
  {
   "cell_type": "code",
   "execution_count": 5,
   "metadata": {},
   "outputs": [
    {
     "name": "stdout",
     "output_type": "stream",
     "text": [
      "test_mae 4.784899104197659\n",
      "test_loss 34.68214615333583\n",
      "test_r2 0.4414223029564829\n"
     ]
    }
   ],
   "source": [
    "y_pred_test = ridge_model.predict(X_test)\n",
    "print('test_mae',mean_absolute_error(y_test, y_pred_test))\n",
    "print('test_loss',mean_squared_error(y_test, y_pred_test))\n",
    "print('test_r2',r2_score(y_test, y_pred_test))"
   ]
  },
  {
   "cell_type": "markdown",
   "metadata": {},
   "source": [
    "Determine model performance on heldout test set:"
   ]
  },
  {
   "cell_type": "code",
   "execution_count": 7,
   "metadata": {},
   "outputs": [
    {
     "name": "stdout",
     "output_type": "stream",
     "text": [
      "test_mae 4.684324441528321\n",
      "test_loss 33.351581432477644\n",
      "test_r2 0.43730077958761704\n"
     ]
    }
   ],
   "source": [
    "y_pred_heldout = ridge_model.predict(X_heldout)\n",
    "print('test_mae',mean_absolute_error(y_heldout, y_pred_heldout))\n",
    "print('test_loss',mean_squared_error(y_heldout, y_pred_heldout))\n",
    "print('test_r2',r2_score(y_heldout, y_pred_heldout))"
   ]
  },
  {
   "cell_type": "code",
   "execution_count": 8,
   "metadata": {},
   "outputs": [
    {
     "data": {
      "text/html": [
       "<div>\n",
       "<style scoped>\n",
       "    .dataframe tbody tr th:only-of-type {\n",
       "        vertical-align: middle;\n",
       "    }\n",
       "\n",
       "    .dataframe tbody tr th {\n",
       "        vertical-align: top;\n",
       "    }\n",
       "\n",
       "    .dataframe thead th {\n",
       "        text-align: right;\n",
       "    }\n",
       "</style>\n",
       "<table border=\"1\" class=\"dataframe\">\n",
       "  <thead>\n",
       "    <tr style=\"text-align: right;\">\n",
       "      <th></th>\n",
       "      <th>eid</th>\n",
       "      <th>age</th>\n",
       "      <th>predicted_age_ridge</th>\n",
       "    </tr>\n",
       "  </thead>\n",
       "  <tbody>\n",
       "    <tr>\n",
       "      <th>0</th>\n",
       "      <td>1000030</td>\n",
       "      <td>65</td>\n",
       "      <td>65.442215</td>\n",
       "    </tr>\n",
       "    <tr>\n",
       "      <th>1</th>\n",
       "      <td>1000059</td>\n",
       "      <td>68</td>\n",
       "      <td>65.902206</td>\n",
       "    </tr>\n",
       "    <tr>\n",
       "      <th>2</th>\n",
       "      <td>1000077</td>\n",
       "      <td>58</td>\n",
       "      <td>60.723911</td>\n",
       "    </tr>\n",
       "    <tr>\n",
       "      <th>3</th>\n",
       "      <td>1000100</td>\n",
       "      <td>57</td>\n",
       "      <td>51.595612</td>\n",
       "    </tr>\n",
       "    <tr>\n",
       "      <th>4</th>\n",
       "      <td>1000202</td>\n",
       "      <td>67</td>\n",
       "      <td>62.639080</td>\n",
       "    </tr>\n",
       "    <tr>\n",
       "      <th>...</th>\n",
       "      <td>...</td>\n",
       "      <td>...</td>\n",
       "      <td>...</td>\n",
       "    </tr>\n",
       "    <tr>\n",
       "      <th>4995</th>\n",
       "      <td>2035762</td>\n",
       "      <td>73</td>\n",
       "      <td>70.628128</td>\n",
       "    </tr>\n",
       "    <tr>\n",
       "      <th>4996</th>\n",
       "      <td>2264650</td>\n",
       "      <td>61</td>\n",
       "      <td>60.719040</td>\n",
       "    </tr>\n",
       "    <tr>\n",
       "      <th>4997</th>\n",
       "      <td>2329354</td>\n",
       "      <td>68</td>\n",
       "      <td>66.051826</td>\n",
       "    </tr>\n",
       "    <tr>\n",
       "      <th>4998</th>\n",
       "      <td>2457356</td>\n",
       "      <td>60</td>\n",
       "      <td>58.524540</td>\n",
       "    </tr>\n",
       "    <tr>\n",
       "      <th>4999</th>\n",
       "      <td>2584074</td>\n",
       "      <td>49</td>\n",
       "      <td>55.347454</td>\n",
       "    </tr>\n",
       "  </tbody>\n",
       "</table>\n",
       "<p>5000 rows × 3 columns</p>\n",
       "</div>"
      ],
      "text/plain": [
       "          eid  age  predicted_age_ridge\n",
       "0     1000030   65            65.442215\n",
       "1     1000059   68            65.902206\n",
       "2     1000077   58            60.723911\n",
       "3     1000100   57            51.595612\n",
       "4     1000202   67            62.639080\n",
       "...       ...  ...                  ...\n",
       "4995  2035762   73            70.628128\n",
       "4996  2264650   61            60.719040\n",
       "4997  2329354   68            66.051826\n",
       "4998  2457356   60            58.524540\n",
       "4999  2584074   49            55.347454\n",
       "\n",
       "[5000 rows x 3 columns]"
      ]
     },
     "execution_count": 8,
     "metadata": {},
     "output_type": "execute_result"
    }
   ],
   "source": [
    "heldout_df = pd.read_csv('../../data/schaefer/overview_heldout_test_set_100-500p.csv')\n",
    "heldout_df['predicted_age_ridge'] = y_pred_heldout\n",
    "heldout_df"
   ]
  },
  {
   "cell_type": "code",
   "execution_count": 9,
   "metadata": {},
   "outputs": [],
   "source": [
    "# save prediction\n",
    "heldout_df.to_csv(preds_save_path+'ridge_preds_100-500p.csv', index=False)"
   ]
  },
  {
   "cell_type": "code",
   "execution_count": null,
   "metadata": {},
   "outputs": [],
   "source": []
  }
 ],
 "metadata": {
  "kernelspec": {
   "display_name": "cuda02",
   "language": "python",
   "name": "python3"
  },
  "language_info": {
   "codemirror_mode": {
    "name": "ipython",
    "version": 3
   },
   "file_extension": ".py",
   "mimetype": "text/x-python",
   "name": "python",
   "nbconvert_exporter": "python",
   "pygments_lexer": "ipython3",
   "version": "3.10.14"
  }
 },
 "nbformat": 4,
 "nbformat_minor": 2
}
