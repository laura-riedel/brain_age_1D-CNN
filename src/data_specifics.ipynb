{
 "cells": [
  {
   "cell_type": "markdown",
   "id": "3701dea4-85d9-4f90-8b32-844b9a9a867d",
   "metadata": {},
   "source": [
    "# Schaefer timeseries: data exploration"
   ]
  },
  {
   "cell_type": "code",
   "execution_count": 1,
   "id": "966daaf5-514f-4cfb-b68d-8ede56417b44",
   "metadata": {},
   "outputs": [],
   "source": [
    "import pandas as pd"
   ]
  },
  {
   "cell_type": "code",
   "execution_count": 2,
   "id": "2dcb4327-850f-4b38-a6c2-24b9f2dcd01e",
   "metadata": {},
   "outputs": [],
   "source": [
    "ukbb_dir = '/ritter/share/data/UKBB/ukb_data/bids/'\n",
    "schaefer_data_dir = '../data/schaefer/'"
   ]
  },
  {
   "cell_type": "code",
   "execution_count": 3,
   "id": "abac1f49-d212-4553-827f-47ec6365985e",
   "metadata": {},
   "outputs": [],
   "source": [
    "schaefer_exists_df = pd.read_csv(schaefer_data_dir+'schaefer_exists.csv')"
   ]
  },
  {
   "cell_type": "markdown",
   "id": "a32374b0-a90c-4d31-b3b5-a0de298d6887",
   "metadata": {},
   "source": [
    "How many subjects do we currently have downloaded Schaefer timeseries for?"
   ]
  },
  {
   "cell_type": "code",
   "execution_count": 4,
   "id": "3d5c41c8-9779-4fc7-aabd-91bf36487888",
   "metadata": {},
   "outputs": [
    {
     "name": "stdout",
     "output_type": "stream",
     "text": [
      "Number of subjects with Schaefer ts files: 39856\n",
      "Number of subjects without Schaefer ts files: 10411\n",
      "Number of subjects with empty Schaefer ts files: 60\n",
      "Number of subjects with usable Schaefer ts files: 39796\n"
     ]
    }
   ],
   "source": [
    "print('Number of subjects with Schaefer ts files:',len(schaefer_exists_df.loc[schaefer_exists_df['schaefer_exists'] == True]))\n",
    "print('Number of subjects without Schaefer ts files:',len(schaefer_exists_df.loc[schaefer_exists_df['schaefer_exists'] == False]))\n",
    "print('Number of subjects with empty Schaefer ts files:',len(schaefer_exists_df[schaefer_exists_df['is_empty']==True]))\n",
    "print('Number of subjects with usable Schaefer ts files:',len(schaefer_exists_df[(schaefer_exists_df['schaefer_exists']==True) & (schaefer_exists_df['is_empty']==False)]))"
   ]
  },
  {
   "cell_type": "markdown",
   "id": "5b2ba218-5ad7-40a8-bf8d-db66775ee0b3",
   "metadata": {},
   "source": [
    "How many timepoints do the timeseries have?"
   ]
  },
  {
   "cell_type": "code",
   "execution_count": 5,
   "id": "418a924d-1f80-4ab3-8b39-d819377eb035",
   "metadata": {},
   "outputs": [
    {
     "name": "stdout",
     "output_type": "stream",
     "text": [
      "{Number of timepoints: number of subjects with these timepoints}\n",
      "{490: 39302, 523: 494}\n"
     ]
    }
   ],
   "source": [
    "# limit to available ts\n",
    "existing = (schaefer_exists_df['schaefer_exists'] == True) \n",
    "nonempty = (schaefer_exists_df['is_empty'] == False)\n",
    "available_schaefer_df = schaefer_exists_df[existing & nonempty].reset_index(drop=True)\n",
    "# prepare dictionary for counting timepoints\n",
    "count_dict = {}\n",
    "\n",
    "# check number of timepoints for each subject\n",
    "for i in range(len(available_schaefer_df)):\n",
    "    sub_id = available_schaefer_df.loc[i, 'eid']\n",
    "    sub_dir = ukbb_dir+'sub-'+str(sub_id)+'/ses-2/func/sub-'+str(sub_id)+'_ses-2_task-rest_Schaefer7n100p.csv.gz'\n",
    "    # check length of columns\n",
    "    # subtract 1 for label column\n",
    "    timepoints = len(pd.read_csv(sub_dir).columns)-1\n",
    "    # add to count\n",
    "    if timepoints in count_dict.keys():\n",
    "        count_dict[timepoints] += 1\n",
    "    else:\n",
    "        count_dict[timepoints] = 1\n",
    "\n",
    "print('{Number of timepoints: number of subjects with these timepoints}')\n",
    "print(count_dict)"
   ]
  },
  {
   "cell_type": "code",
   "execution_count": null,
   "id": "bda715f6-453b-422c-b4dd-700718cc8732",
   "metadata": {},
   "outputs": [],
   "source": []
  }
 ],
 "metadata": {
  "kernelspec": {
   "display_name": "Python 3 (ipykernel)",
   "language": "python",
   "name": "python3"
  },
  "language_info": {
   "codemirror_mode": {
    "name": "ipython",
    "version": 3
   },
   "file_extension": ".py",
   "mimetype": "text/x-python",
   "name": "python",
   "nbconvert_exporter": "python",
   "pygments_lexer": "ipython3",
   "version": "3.10.9"
  }
 },
 "nbformat": 4,
 "nbformat_minor": 5
}
