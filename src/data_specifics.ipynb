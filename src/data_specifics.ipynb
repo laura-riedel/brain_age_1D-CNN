{
 "cells": [
  {
   "cell_type": "markdown",
   "id": "3701dea4-85d9-4f90-8b32-844b9a9a867d",
   "metadata": {},
   "source": [
    "# Schaefer timeseries: data exploration"
   ]
  },
  {
   "cell_type": "code",
   "execution_count": 1,
   "id": "966daaf5-514f-4cfb-b68d-8ede56417b44",
   "metadata": {},
   "outputs": [],
   "source": [
    "import pandas as pd\n",
    "import numpy as np\n",
    "import os"
   ]
  },
  {
   "cell_type": "code",
   "execution_count": 2,
   "id": "2dcb4327-850f-4b38-a6c2-24b9f2dcd01e",
   "metadata": {},
   "outputs": [],
   "source": [
    "ukbb_dir = '/ritter/share/data/UKBB/ukb_data/bids/'\n",
    "schaefer_data_dir = '../data/schaefer/'"
   ]
  },
  {
   "cell_type": "code",
   "execution_count": 3,
   "id": "abac1f49-d212-4553-827f-47ec6365985e",
   "metadata": {},
   "outputs": [],
   "source": [
    "schaefer_exists_df = pd.read_csv(schaefer_data_dir+'schaefer_exists.csv')"
   ]
  },
  {
   "cell_type": "markdown",
   "id": "a32374b0-a90c-4d31-b3b5-a0de298d6887",
   "metadata": {},
   "source": [
    "How many subjects do we currently have downloaded Schaefer timeseries for?"
   ]
  },
  {
   "cell_type": "code",
   "execution_count": 4,
   "id": "3d5c41c8-9779-4fc7-aabd-91bf36487888",
   "metadata": {},
   "outputs": [
    {
     "name": "stdout",
     "output_type": "stream",
     "text": [
      "Number of subjects with Schaefer ts: 39856\n",
      "Number of subjects without Schaefer ts: 10411\n"
     ]
    }
   ],
   "source": [
    "print('Number of subjects with Schaefer ts:',len(schaefer_exists_df.loc[schaefer_exists_df['schaefer_exists'] == True]))\n",
    "print('Number of subjects without Schaefer ts:',len(schaefer_exists_df.loc[schaefer_exists_df['schaefer_exists'] == False]))"
   ]
  },
  {
   "cell_type": "markdown",
   "id": "5b2ba218-5ad7-40a8-bf8d-db66775ee0b3",
   "metadata": {},
   "source": [
    "How many timepoints do the timeseries have?"
   ]
  },
  {
   "cell_type": "code",
   "execution_count": 5,
   "id": "418a924d-1f80-4ab3-8b39-d819377eb035",
   "metadata": {},
   "outputs": [
    {
     "name": "stdout",
     "output_type": "stream",
     "text": [
      "{Number of timepoints: number of subjects with these timepoints}\n",
      "{490: 39302, 523: 494}\n",
      "Subjects with empty Schaefer files (IDs):\n",
      "{1116417, 1433347, 1122312, 1105545, 1118605, 1218963, 1118490, 1028124, 1137180, 1010334, 1256608, 1138465, 1132834, 1072932, 1109412, 1141164, 1145006, 1164723, 1202229, 1046966, 1075383, 1110970, 1163323, 1169466, 1066687, 1169855, 1034050, 1167299, 1127747, 1000901, 1001163, 1132748, 1279313, 1195090, 1008595, 1240151, 1108952, 1163479, 1005914, 1035483, 1209562, 1040480, 1232099, 1171043, 1053029, 1085029, 1005930, 1068267, 1244266, 1088493, 1118574, 1203822, 1068529, 1008242, 1138933, 1009910, 1060983, 1111418, 1160316, 1041279}\n"
     ]
    }
   ],
   "source": [
    "# limit to available ts\n",
    "available_schaefer_df = schaefer_exists_df[schaefer_exists_df['schaefer_exists'] == True].reset_index(drop=True)\n",
    "# prepare dictionary for counting timepoints\n",
    "count_dict = {}\n",
    "iterated_subs = []\n",
    "# take note of empty files\n",
    "exceptions = set()\n",
    "\n",
    "# check number of timepoints for each subject\n",
    "for i in range(len(iterated_subs), len(available_schaefer_df)): #available_schaefer_df.index\n",
    "    sub_id = available_schaefer_df.loc[i, 'eid']\n",
    "    # only open non-empty files\n",
    "    if sub_id not in exceptions:\n",
    "        iterated_subs.append(sub_id)\n",
    "        sub_dir = ukbb_dir+'sub-'+str(sub_id)+'/ses-2/func/sub-'+str(sub_id)+'_ses-2_task-rest_Schaefer7n100p.csv.gz'\n",
    "        # catch empty files:\n",
    "        if os.path.getsize(sub_dir) > 0:\n",
    "            # check length of columns\n",
    "            # subtract 1 for label column\n",
    "            timepoints = len(pd.read_csv(sub_dir).columns)-1\n",
    "            # add to count\n",
    "            if timepoints in count_dict.keys():\n",
    "                count_dict[timepoints] += 1\n",
    "            else:\n",
    "                count_dict[timepoints] = 1\n",
    "        else:\n",
    "            exceptions.add(sub_id)\n",
    "print('{Number of timepoints: number of subjects with these timepoints}')\n",
    "print(count_dict)\n",
    "print('Subjects with empty Schaefer files (IDs):')\n",
    "print(exceptions)"
   ]
  },
  {
   "cell_type": "code",
   "execution_count": null,
   "id": "3ea27390-1327-49c4-958b-6c2558e1c8d9",
   "metadata": {},
   "outputs": [],
   "source": []
  }
 ],
 "metadata": {
  "kernelspec": {
   "display_name": "Python 3 (ipykernel)",
   "language": "python",
   "name": "python3"
  },
  "language_info": {
   "codemirror_mode": {
    "name": "ipython",
    "version": 3
   },
   "file_extension": ".py",
   "mimetype": "text/x-python",
   "name": "python",
   "nbconvert_exporter": "python",
   "pygments_lexer": "ipython3",
   "version": "3.10.9"
  }
 },
 "nbformat": 4,
 "nbformat_minor": 5
}
