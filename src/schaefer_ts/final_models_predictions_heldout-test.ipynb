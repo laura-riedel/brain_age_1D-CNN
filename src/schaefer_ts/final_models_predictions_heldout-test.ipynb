{
 "cells": [
  {
   "cell_type": "markdown",
   "metadata": {},
   "source": [
    "# Get predictions + performance of models on heldout test set"
   ]
  },
  {
   "cell_type": "code",
   "execution_count": 1,
   "metadata": {},
   "outputs": [],
   "source": [
    "import pandas as pd\n",
    "import torch\n",
    "from pytorch_lightning import Trainer\n",
    "from brain_age_prediction import data, models, utils"
   ]
  },
  {
   "cell_type": "code",
   "execution_count": 2,
   "metadata": {},
   "outputs": [],
   "source": [
    "torch.set_num_threads(2)"
   ]
  },
  {
   "cell_type": "code",
   "execution_count": 3,
   "metadata": {},
   "outputs": [],
   "source": [
    "# paths to best model checkpoints\n",
    "orig_model_path = 'lightweight-brain-age-prediction/umd5tlvz/checkpoints/epoch=57-step=13108.ckpt'\n",
    "new_model_path = 'lightweight-brain-age-prediction/nx218mm3/checkpoints/epoch=26-step=6102.ckpt'\n",
    "# save path for predictions\n",
    "preds_save_path = '/ritter/share/projects/laura_riedel_thesis/predictions/'"
   ]
  },
  {
   "cell_type": "markdown",
   "metadata": {},
   "source": [
    "## \"Original\" ICA100 model architecture with depth=1"
   ]
  },
  {
   "cell_type": "code",
   "execution_count": 4,
   "metadata": {},
   "outputs": [
    {
     "name": "stderr",
     "output_type": "stream",
     "text": [
      "GPU available: False, used: False\n",
      "TPU available: False, using: 0 TPU cores\n",
      "IPU available: False, using: 0 IPUs\n",
      "HPU available: False, using: 0 HPUs\n",
      "/home/laurar/anaconda3/envs/cuda02/lib/python3.10/site-packages/pytorch_lightning/utilities/parsing.py:197: UserWarning: Attribute 'activation' is an instance of `nn.Module` and is already saved during checkpointing. It is recommended to ignore them using `self.save_hyperparameters(ignore=['activation'])`.\n",
      "  rank_zero_warn(\n",
      "/home/laurar/anaconda3/envs/cuda02/lib/python3.10/site-packages/pytorch_lightning/utilities/parsing.py:197: UserWarning: Attribute 'loss' is an instance of `nn.Module` and is already saved during checkpointing. It is recommended to ignore them using `self.save_hyperparameters(ignore=['loss'])`.\n",
      "  rank_zero_warn(\n",
      "/home/laurar/anaconda3/envs/cuda02/lib/python3.10/site-packages/pytorch_lightning/trainer/connectors/data_connector.py:430: PossibleUserWarning: The dataloader, predict_dataloader, does not have many workers which may be a bottleneck. Consider increasing the value of the `num_workers` argument` (try 48 which is the number of cpus on this machine) in the `DataLoader` init to improve performance.\n",
      "  rank_zero_warn(\n"
     ]
    },
    {
     "data": {
      "application/vnd.jupyter.widget-view+json": {
       "model_id": "404de147df2a4465afd501d4ba8dad5a",
       "version_major": 2,
       "version_minor": 0
      },
      "text/plain": [
       "Predicting: 0it [00:00, ?it/s]"
      ]
     },
     "metadata": {},
     "output_type": "display_data"
    },
    {
     "name": "stderr",
     "output_type": "stream",
     "text": [
      "/home/laurar/anaconda3/envs/cuda02/lib/python3.10/site-packages/pytorch_lightning/trainer/connectors/data_connector.py:430: PossibleUserWarning: The dataloader, test_dataloader, does not have many workers which may be a bottleneck. Consider increasing the value of the `num_workers` argument` (try 48 which is the number of cpus on this machine) in the `DataLoader` init to improve performance.\n",
      "  rank_zero_warn(\n"
     ]
    },
    {
     "data": {
      "application/vnd.jupyter.widget-view+json": {
       "model_id": "a8d306328e8747748f589dee9a08fd86",
       "version_major": 2,
       "version_minor": 0
      },
      "text/plain": [
       "Testing: 0it [00:00, ?it/s]"
      ]
     },
     "metadata": {},
     "output_type": "display_data"
    },
    {
     "name": "stdout",
     "output_type": "stream",
     "text": [
      "────────────────────────────────────────────────────────────────────────────────────────────────────────────────────────\n",
      "       Test metric             DataLoader 0\n",
      "────────────────────────────────────────────────────────────────────────────────────────────────────────────────────────\n",
      "        test_loss            31.08278465270996\n",
      "        test_mae             4.453372478485107\n",
      "────────────────────────────────────────────────────────────────────────────────────────────────────────────────────────\n"
     ]
    },
    {
     "data": {
      "text/plain": [
       "[{'test_loss': 31.08278465270996, 'test_mae': 4.453372478485107}]"
      ]
     },
     "execution_count": 4,
     "metadata": {},
     "output_type": "execute_result"
    }
   ],
   "source": [
    "utils.make_reproducible()\n",
    "# preps\n",
    "orig_datamodule = data.UKBBDataModule(dev=False)\n",
    "orig_trainer = Trainer(accelerator='cpu', deterministic=True, logger=False, enable_checkpointing=False)\n",
    "orig_model = models.variable1DCNN.load_from_checkpoint(orig_model_path)\n",
    "orig_model.eval()\n",
    "# get + save predictions\n",
    "utils.predict_w_model(orig_trainer, orig_model, orig_datamodule, preds_save_path+'original_model_preds_100-500p.csv', output=False)\n",
    "# test\n",
    "orig_trainer.test(model=orig_model, datamodule=orig_datamodule)"
   ]
  },
  {
   "cell_type": "code",
   "execution_count": 5,
   "metadata": {},
   "outputs": [],
   "source": [
    "# save heldout participant ID - age overview (= same for both models)\n",
    "utils.save_heldout_data_info('../../data/schaefer/overview_heldout_test_set_100-500p.csv', orig_datamodule)"
   ]
  },
  {
   "cell_type": "markdown",
   "metadata": {},
   "source": [
    "## New deeper model architecture with depth=4"
   ]
  },
  {
   "cell_type": "code",
   "execution_count": 6,
   "metadata": {},
   "outputs": [
    {
     "name": "stderr",
     "output_type": "stream",
     "text": [
      "GPU available: False, used: False\n",
      "TPU available: False, using: 0 TPU cores\n",
      "IPU available: False, using: 0 IPUs\n",
      "HPU available: False, using: 0 HPUs\n",
      "/home/laurar/anaconda3/envs/cuda02/lib/python3.10/site-packages/pytorch_lightning/utilities/parsing.py:197: UserWarning: Attribute 'activation' is an instance of `nn.Module` and is already saved during checkpointing. It is recommended to ignore them using `self.save_hyperparameters(ignore=['activation'])`.\n",
      "  rank_zero_warn(\n",
      "/home/laurar/anaconda3/envs/cuda02/lib/python3.10/site-packages/pytorch_lightning/utilities/parsing.py:197: UserWarning: Attribute 'loss' is an instance of `nn.Module` and is already saved during checkpointing. It is recommended to ignore them using `self.save_hyperparameters(ignore=['loss'])`.\n",
      "  rank_zero_warn(\n",
      "/home/laurar/anaconda3/envs/cuda02/lib/python3.10/site-packages/pytorch_lightning/trainer/connectors/data_connector.py:430: PossibleUserWarning: The dataloader, predict_dataloader, does not have many workers which may be a bottleneck. Consider increasing the value of the `num_workers` argument` (try 48 which is the number of cpus on this machine) in the `DataLoader` init to improve performance.\n",
      "  rank_zero_warn(\n"
     ]
    },
    {
     "data": {
      "application/vnd.jupyter.widget-view+json": {
       "model_id": "99209b5c493e4c039121d76c8571bfaa",
       "version_major": 2,
       "version_minor": 0
      },
      "text/plain": [
       "Predicting: 0it [00:00, ?it/s]"
      ]
     },
     "metadata": {},
     "output_type": "display_data"
    },
    {
     "name": "stderr",
     "output_type": "stream",
     "text": [
      "/home/laurar/anaconda3/envs/cuda02/lib/python3.10/site-packages/pytorch_lightning/trainer/connectors/data_connector.py:430: PossibleUserWarning: The dataloader, test_dataloader, does not have many workers which may be a bottleneck. Consider increasing the value of the `num_workers` argument` (try 48 which is the number of cpus on this machine) in the `DataLoader` init to improve performance.\n",
      "  rank_zero_warn(\n"
     ]
    },
    {
     "data": {
      "application/vnd.jupyter.widget-view+json": {
       "model_id": "9b6ba76a930d477a95a3c518c1e2c5b8",
       "version_major": 2,
       "version_minor": 0
      },
      "text/plain": [
       "Testing: 0it [00:00, ?it/s]"
      ]
     },
     "metadata": {},
     "output_type": "display_data"
    },
    {
     "name": "stdout",
     "output_type": "stream",
     "text": [
      "────────────────────────────────────────────────────────────────────────────────────────────────────────────────────────\n",
      "       Test metric             DataLoader 0\n",
      "────────────────────────────────────────────────────────────────────────────────────────────────────────────────────────\n",
      "        test_loss           30.271772384643555\n",
      "        test_mae             4.405776500701904\n",
      "────────────────────────────────────────────────────────────────────────────────────────────────────────────────────────\n"
     ]
    },
    {
     "data": {
      "text/plain": [
       "[{'test_loss': 30.271772384643555, 'test_mae': 4.405776500701904}]"
      ]
     },
     "execution_count": 6,
     "metadata": {},
     "output_type": "execute_result"
    }
   ],
   "source": [
    "utils.make_reproducible()\n",
    "# preps\n",
    "new_datamodule = data.UKBBDataModule(dev=False)\n",
    "new_trainer = Trainer(accelerator='cpu', deterministic=True, logger=False, enable_checkpointing=False)\n",
    "new_model = models.variable1DCNN.load_from_checkpoint(new_model_path)\n",
    "new_model.eval()\n",
    "# get + save predictions\n",
    "utils.predict_w_model(new_trainer, new_model, new_datamodule, preds_save_path+'new_model_preds_100-500p.csv', output=False)\n",
    "# test\n",
    "new_trainer.test(model=new_model, datamodule=new_datamodule)"
   ]
  },
  {
   "cell_type": "markdown",
   "metadata": {},
   "source": [
    "## Create + save overview"
   ]
  },
  {
   "cell_type": "code",
   "execution_count": 7,
   "metadata": {},
   "outputs": [
    {
     "data": {
      "text/html": [
       "<div>\n",
       "<style scoped>\n",
       "    .dataframe tbody tr th:only-of-type {\n",
       "        vertical-align: middle;\n",
       "    }\n",
       "\n",
       "    .dataframe tbody tr th {\n",
       "        vertical-align: top;\n",
       "    }\n",
       "\n",
       "    .dataframe thead th {\n",
       "        text-align: right;\n",
       "    }\n",
       "</style>\n",
       "<table border=\"1\" class=\"dataframe\">\n",
       "  <thead>\n",
       "    <tr style=\"text-align: right;\">\n",
       "      <th></th>\n",
       "      <th>eid</th>\n",
       "      <th>age</th>\n",
       "      <th>split</th>\n",
       "      <th>bmi</th>\n",
       "      <th>digit substitution</th>\n",
       "      <th>education</th>\n",
       "      <th>fluid intelligence</th>\n",
       "      <th>grip</th>\n",
       "      <th>depressive episode</th>\n",
       "      <th>all depression</th>\n",
       "      <th>...</th>\n",
       "      <th>weekly beer</th>\n",
       "      <th>genetic pc 1</th>\n",
       "      <th>genetic pc 2</th>\n",
       "      <th>genetic pc 3</th>\n",
       "      <th>batch_nb_orig</th>\n",
       "      <th>predicted_age_orig</th>\n",
       "      <th>batch_nb_new</th>\n",
       "      <th>predicted_age_new</th>\n",
       "      <th>bag_orig</th>\n",
       "      <th>bag_new</th>\n",
       "    </tr>\n",
       "  </thead>\n",
       "  <tbody>\n",
       "    <tr>\n",
       "      <th>0</th>\n",
       "      <td>1000014</td>\n",
       "      <td>61</td>\n",
       "      <td>train</td>\n",
       "      <td>23.4720</td>\n",
       "      <td>16.0</td>\n",
       "      <td>10.0</td>\n",
       "      <td>8.0</td>\n",
       "      <td>18.0</td>\n",
       "      <td>NaN</td>\n",
       "      <td>NaN</td>\n",
       "      <td>...</td>\n",
       "      <td>0.0</td>\n",
       "      <td>-9.69796</td>\n",
       "      <td>4.38910</td>\n",
       "      <td>-1.121000</td>\n",
       "      <td>NaN</td>\n",
       "      <td>NaN</td>\n",
       "      <td>NaN</td>\n",
       "      <td>NaN</td>\n",
       "      <td>NaN</td>\n",
       "      <td>NaN</td>\n",
       "    </tr>\n",
       "    <tr>\n",
       "      <th>1</th>\n",
       "      <td>1000023</td>\n",
       "      <td>66</td>\n",
       "      <td>train</td>\n",
       "      <td>30.7894</td>\n",
       "      <td>NaN</td>\n",
       "      <td>7.0</td>\n",
       "      <td>4.0</td>\n",
       "      <td>16.0</td>\n",
       "      <td>NaN</td>\n",
       "      <td>NaN</td>\n",
       "      <td>...</td>\n",
       "      <td>3.0</td>\n",
       "      <td>-13.23580</td>\n",
       "      <td>3.27728</td>\n",
       "      <td>-2.250050</td>\n",
       "      <td>NaN</td>\n",
       "      <td>NaN</td>\n",
       "      <td>NaN</td>\n",
       "      <td>NaN</td>\n",
       "      <td>NaN</td>\n",
       "      <td>NaN</td>\n",
       "    </tr>\n",
       "    <tr>\n",
       "      <th>2</th>\n",
       "      <td>1000041</td>\n",
       "      <td>61</td>\n",
       "      <td>train</td>\n",
       "      <td>22.7013</td>\n",
       "      <td>23.0</td>\n",
       "      <td>15.0</td>\n",
       "      <td>3.0</td>\n",
       "      <td>38.0</td>\n",
       "      <td>0.0</td>\n",
       "      <td>0.0</td>\n",
       "      <td>...</td>\n",
       "      <td>16.0</td>\n",
       "      <td>-13.54560</td>\n",
       "      <td>4.86490</td>\n",
       "      <td>-0.990955</td>\n",
       "      <td>NaN</td>\n",
       "      <td>NaN</td>\n",
       "      <td>NaN</td>\n",
       "      <td>NaN</td>\n",
       "      <td>NaN</td>\n",
       "      <td>NaN</td>\n",
       "    </tr>\n",
       "    <tr>\n",
       "      <th>3</th>\n",
       "      <td>1000062</td>\n",
       "      <td>69</td>\n",
       "      <td>train</td>\n",
       "      <td>30.4367</td>\n",
       "      <td>19.0</td>\n",
       "      <td>15.0</td>\n",
       "      <td>7.0</td>\n",
       "      <td>30.0</td>\n",
       "      <td>0.0</td>\n",
       "      <td>0.0</td>\n",
       "      <td>...</td>\n",
       "      <td>4.0</td>\n",
       "      <td>-12.49330</td>\n",
       "      <td>5.05782</td>\n",
       "      <td>-0.544850</td>\n",
       "      <td>NaN</td>\n",
       "      <td>NaN</td>\n",
       "      <td>NaN</td>\n",
       "      <td>NaN</td>\n",
       "      <td>NaN</td>\n",
       "      <td>NaN</td>\n",
       "    </tr>\n",
       "    <tr>\n",
       "      <th>4</th>\n",
       "      <td>1000086</td>\n",
       "      <td>52</td>\n",
       "      <td>train</td>\n",
       "      <td>27.3455</td>\n",
       "      <td>18.0</td>\n",
       "      <td>20.0</td>\n",
       "      <td>8.0</td>\n",
       "      <td>22.0</td>\n",
       "      <td>0.0</td>\n",
       "      <td>0.0</td>\n",
       "      <td>...</td>\n",
       "      <td>0.0</td>\n",
       "      <td>-10.47450</td>\n",
       "      <td>2.44623</td>\n",
       "      <td>1.399650</td>\n",
       "      <td>NaN</td>\n",
       "      <td>NaN</td>\n",
       "      <td>NaN</td>\n",
       "      <td>NaN</td>\n",
       "      <td>NaN</td>\n",
       "      <td>NaN</td>\n",
       "    </tr>\n",
       "    <tr>\n",
       "      <th>...</th>\n",
       "      <td>...</td>\n",
       "      <td>...</td>\n",
       "      <td>...</td>\n",
       "      <td>...</td>\n",
       "      <td>...</td>\n",
       "      <td>...</td>\n",
       "      <td>...</td>\n",
       "      <td>...</td>\n",
       "      <td>...</td>\n",
       "      <td>...</td>\n",
       "      <td>...</td>\n",
       "      <td>...</td>\n",
       "      <td>...</td>\n",
       "      <td>...</td>\n",
       "      <td>...</td>\n",
       "      <td>...</td>\n",
       "      <td>...</td>\n",
       "      <td>...</td>\n",
       "      <td>...</td>\n",
       "      <td>...</td>\n",
       "      <td>...</td>\n",
       "    </tr>\n",
       "    <tr>\n",
       "      <th>37851</th>\n",
       "      <td>2035762</td>\n",
       "      <td>73</td>\n",
       "      <td>heldout_test</td>\n",
       "      <td>25.3688</td>\n",
       "      <td>12.0</td>\n",
       "      <td>7.0</td>\n",
       "      <td>5.0</td>\n",
       "      <td>24.0</td>\n",
       "      <td>0.0</td>\n",
       "      <td>0.0</td>\n",
       "      <td>...</td>\n",
       "      <td>0.0</td>\n",
       "      <td>-13.48930</td>\n",
       "      <td>2.64829</td>\n",
       "      <td>-2.457690</td>\n",
       "      <td>7.0</td>\n",
       "      <td>77.852402</td>\n",
       "      <td>7.0</td>\n",
       "      <td>74.190857</td>\n",
       "      <td>4.852402</td>\n",
       "      <td>1.190857</td>\n",
       "    </tr>\n",
       "    <tr>\n",
       "      <th>37852</th>\n",
       "      <td>2264650</td>\n",
       "      <td>61</td>\n",
       "      <td>heldout_test</td>\n",
       "      <td>30.5389</td>\n",
       "      <td>NaN</td>\n",
       "      <td>7.0</td>\n",
       "      <td>NaN</td>\n",
       "      <td>41.0</td>\n",
       "      <td>0.0</td>\n",
       "      <td>0.0</td>\n",
       "      <td>...</td>\n",
       "      <td>NaN</td>\n",
       "      <td>-13.46180</td>\n",
       "      <td>4.96731</td>\n",
       "      <td>-3.327250</td>\n",
       "      <td>29.0</td>\n",
       "      <td>61.950256</td>\n",
       "      <td>29.0</td>\n",
       "      <td>63.557865</td>\n",
       "      <td>0.950256</td>\n",
       "      <td>2.557865</td>\n",
       "    </tr>\n",
       "    <tr>\n",
       "      <th>37853</th>\n",
       "      <td>2329354</td>\n",
       "      <td>68</td>\n",
       "      <td>heldout_test</td>\n",
       "      <td>22.5614</td>\n",
       "      <td>18.0</td>\n",
       "      <td>20.0</td>\n",
       "      <td>8.0</td>\n",
       "      <td>30.0</td>\n",
       "      <td>0.0</td>\n",
       "      <td>0.0</td>\n",
       "      <td>...</td>\n",
       "      <td>1.0</td>\n",
       "      <td>NaN</td>\n",
       "      <td>NaN</td>\n",
       "      <td>NaN</td>\n",
       "      <td>36.0</td>\n",
       "      <td>66.802460</td>\n",
       "      <td>36.0</td>\n",
       "      <td>65.315231</td>\n",
       "      <td>-1.197540</td>\n",
       "      <td>-2.684769</td>\n",
       "    </tr>\n",
       "    <tr>\n",
       "      <th>37854</th>\n",
       "      <td>2457356</td>\n",
       "      <td>60</td>\n",
       "      <td>heldout_test</td>\n",
       "      <td>29.6270</td>\n",
       "      <td>18.0</td>\n",
       "      <td>20.0</td>\n",
       "      <td>8.0</td>\n",
       "      <td>22.0</td>\n",
       "      <td>1.0</td>\n",
       "      <td>1.0</td>\n",
       "      <td>...</td>\n",
       "      <td>0.0</td>\n",
       "      <td>NaN</td>\n",
       "      <td>NaN</td>\n",
       "      <td>NaN</td>\n",
       "      <td>9.0</td>\n",
       "      <td>61.610027</td>\n",
       "      <td>9.0</td>\n",
       "      <td>63.635746</td>\n",
       "      <td>1.610027</td>\n",
       "      <td>3.635746</td>\n",
       "    </tr>\n",
       "    <tr>\n",
       "      <th>37855</th>\n",
       "      <td>2584074</td>\n",
       "      <td>49</td>\n",
       "      <td>heldout_test</td>\n",
       "      <td>21.8522</td>\n",
       "      <td>NaN</td>\n",
       "      <td>20.0</td>\n",
       "      <td>11.0</td>\n",
       "      <td>64.0</td>\n",
       "      <td>1.0</td>\n",
       "      <td>1.0</td>\n",
       "      <td>...</td>\n",
       "      <td>2.0</td>\n",
       "      <td>-12.03270</td>\n",
       "      <td>2.29392</td>\n",
       "      <td>-2.414410</td>\n",
       "      <td>12.0</td>\n",
       "      <td>60.643711</td>\n",
       "      <td>12.0</td>\n",
       "      <td>57.262020</td>\n",
       "      <td>11.643711</td>\n",
       "      <td>8.262020</td>\n",
       "    </tr>\n",
       "  </tbody>\n",
       "</table>\n",
       "<p>37856 rows × 23 columns</p>\n",
       "</div>"
      ],
      "text/plain": [
       "           eid  age         split      bmi  digit substitution  education  \\\n",
       "0      1000014   61         train  23.4720                16.0       10.0   \n",
       "1      1000023   66         train  30.7894                 NaN        7.0   \n",
       "2      1000041   61         train  22.7013                23.0       15.0   \n",
       "3      1000062   69         train  30.4367                19.0       15.0   \n",
       "4      1000086   52         train  27.3455                18.0       20.0   \n",
       "...        ...  ...           ...      ...                 ...        ...   \n",
       "37851  2035762   73  heldout_test  25.3688                12.0        7.0   \n",
       "37852  2264650   61  heldout_test  30.5389                 NaN        7.0   \n",
       "37853  2329354   68  heldout_test  22.5614                18.0       20.0   \n",
       "37854  2457356   60  heldout_test  29.6270                18.0       20.0   \n",
       "37855  2584074   49  heldout_test  21.8522                 NaN       20.0   \n",
       "\n",
       "       fluid intelligence  grip  depressive episode  all depression  ...  \\\n",
       "0                     8.0  18.0                 NaN             NaN  ...   \n",
       "1                     4.0  16.0                 NaN             NaN  ...   \n",
       "2                     3.0  38.0                 0.0             0.0  ...   \n",
       "3                     7.0  30.0                 0.0             0.0  ...   \n",
       "4                     8.0  22.0                 0.0             0.0  ...   \n",
       "...                   ...   ...                 ...             ...  ...   \n",
       "37851                 5.0  24.0                 0.0             0.0  ...   \n",
       "37852                 NaN  41.0                 0.0             0.0  ...   \n",
       "37853                 8.0  30.0                 0.0             0.0  ...   \n",
       "37854                 8.0  22.0                 1.0             1.0  ...   \n",
       "37855                11.0  64.0                 1.0             1.0  ...   \n",
       "\n",
       "       weekly beer  genetic pc 1  genetic pc 2  genetic pc 3  batch_nb_orig  \\\n",
       "0              0.0      -9.69796       4.38910     -1.121000            NaN   \n",
       "1              3.0     -13.23580       3.27728     -2.250050            NaN   \n",
       "2             16.0     -13.54560       4.86490     -0.990955            NaN   \n",
       "3              4.0     -12.49330       5.05782     -0.544850            NaN   \n",
       "4              0.0     -10.47450       2.44623      1.399650            NaN   \n",
       "...            ...           ...           ...           ...            ...   \n",
       "37851          0.0     -13.48930       2.64829     -2.457690            7.0   \n",
       "37852          NaN     -13.46180       4.96731     -3.327250           29.0   \n",
       "37853          1.0           NaN           NaN           NaN           36.0   \n",
       "37854          0.0           NaN           NaN           NaN            9.0   \n",
       "37855          2.0     -12.03270       2.29392     -2.414410           12.0   \n",
       "\n",
       "       predicted_age_orig  batch_nb_new  predicted_age_new   bag_orig  \\\n",
       "0                     NaN           NaN                NaN        NaN   \n",
       "1                     NaN           NaN                NaN        NaN   \n",
       "2                     NaN           NaN                NaN        NaN   \n",
       "3                     NaN           NaN                NaN        NaN   \n",
       "4                     NaN           NaN                NaN        NaN   \n",
       "...                   ...           ...                ...        ...   \n",
       "37851           77.852402           7.0          74.190857   4.852402   \n",
       "37852           61.950256          29.0          63.557865   0.950256   \n",
       "37853           66.802460          36.0          65.315231  -1.197540   \n",
       "37854           61.610027           9.0          63.635746   1.610027   \n",
       "37855           60.643711          12.0          57.262020  11.643711   \n",
       "\n",
       "        bag_new  \n",
       "0           NaN  \n",
       "1           NaN  \n",
       "2           NaN  \n",
       "3           NaN  \n",
       "4           NaN  \n",
       "...         ...  \n",
       "37851  1.190857  \n",
       "37852  2.557865  \n",
       "37853 -2.684769  \n",
       "37854  3.635746  \n",
       "37855  8.262020  \n",
       "\n",
       "[37856 rows x 23 columns]"
      ]
     },
     "execution_count": 7,
     "metadata": {},
     "output_type": "execute_result"
    }
   ],
   "source": [
    "ukbb_dir = '/ritter/share/data/UKBB/ukb_data/'\n",
    "data_info_path = '../../data/schaefer/'\n",
    "heldout_path = data_info_path+'overview_heldout_test_set_100-500p.csv'\n",
    "data_overview = utils.merge_metadata_with_splitinfos(ukbb_dir, data_info_path, heldout_path)\n",
    "\n",
    "# load predictions\n",
    "orig_model_preds = pd.read_csv(preds_save_path+'original_model_preds_100-500p.csv')\n",
    "new_model_preds = pd.read_csv(preds_save_path+'new_model_preds_100-500p.csv')\n",
    "# add predictions to overview\n",
    "data_overview = data_overview.merge(orig_model_preds, how='left', on='eid')\n",
    "data_overview = data_overview.merge(new_model_preds, how='left', on='eid', suffixes=('_orig', '_new'))\n",
    "data_overview = utils.calculate_bag(data_overview, models=['orig','new'])\n",
    "data_overview"
   ]
  },
  {
   "cell_type": "code",
   "execution_count": 8,
   "metadata": {},
   "outputs": [],
   "source": [
    "# save overview\n",
    "data_overview.to_csv(preds_save_path+'predictions_overview_100-500p.csv', index=False)"
   ]
  },
  {
   "cell_type": "code",
   "execution_count": null,
   "metadata": {},
   "outputs": [],
   "source": []
  }
 ],
 "metadata": {
  "kernelspec": {
   "display_name": "cuda02",
   "language": "python",
   "name": "python3"
  },
  "language_info": {
   "codemirror_mode": {
    "name": "ipython",
    "version": 3
   },
   "file_extension": ".py",
   "mimetype": "text/x-python",
   "name": "python",
   "nbconvert_exporter": "python",
   "pygments_lexer": "ipython3",
   "version": "3.10.14"
  }
 },
 "nbformat": 4,
 "nbformat_minor": 2
}
