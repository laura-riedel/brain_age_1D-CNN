{
 "cells": [
  {
   "cell_type": "markdown",
   "id": "98aaebd6-7f9b-4967-8631-b14bc9c25967",
   "metadata": {},
   "source": [
    "# Training Schaefer timeseries"
   ]
  },
  {
   "cell_type": "code",
   "execution_count": 1,
   "id": "bbf1fcb0-ba8a-41d4-9a36-91aeace9be2f",
   "metadata": {},
   "outputs": [],
   "source": [
    "import wandb\n",
    "import yaml\n",
    "import torch\n",
    "# custom module\n",
    "from brain_age_prediction import data, models, utils, wandb_utils"
   ]
  },
  {
   "cell_type": "markdown",
   "id": "e0d8e42a-6f0a-4dc3-9971-a86e799c0367",
   "metadata": {},
   "source": [
    "## Run best ICA model config with Schaefer timeseries"
   ]
  },
  {
   "cell_type": "code",
   "execution_count": 2,
   "id": "c21d04a9-c63f-4f94-9329-5291a1ac6ebf",
   "metadata": {},
   "outputs": [
    {
     "name": "stderr",
     "output_type": "stream",
     "text": [
      "\u001b[34m\u001b[1mwandb\u001b[0m: Currently logged in as: \u001b[33mlaura-riedel\u001b[0m (\u001b[33mstudents\u001b[0m). Use \u001b[1m`wandb login --relogin`\u001b[0m to force relogin\n"
     ]
    },
    {
     "data": {
      "text/plain": [
       "True"
      ]
     },
     "execution_count": 2,
     "metadata": {},
     "output_type": "execute_result"
    }
   ],
   "source": [
    "wandb.login()"
   ]
  },
  {
   "cell_type": "markdown",
   "id": "ac4dd3ae-0be2-40e3-a00e-a101cfa3167a",
   "metadata": {},
   "source": [
    "7n100p with original settings (from ICA hyperparameter tuning)"
   ]
  },
  {
   "cell_type": "code",
   "execution_count": 3,
   "id": "f02191ad-ed8a-4750-8145-f10e3a1276b7",
   "metadata": {},
   "outputs": [],
   "source": [
    "# load configs\n",
    "with open('parameters/7n100p_original.yaml', 'r') as f:\n",
    "    config_7n100p_original = yaml.safe_load(f)\n",
    "with open('parameters/17n100p_original.yaml', 'r') as f:\n",
    "    config_17n100p_original = yaml.safe_load(f)"
   ]
  },
  {
   "cell_type": "code",
   "execution_count": null,
   "id": "422d65f9-e48a-47c1-94ae-d7fefd72a05d",
   "metadata": {},
   "outputs": [
    {
     "data": {
      "text/html": [
       "wandb version 0.16.4 is available!  To upgrade, please run:\n",
       " $ pip install wandb --upgrade"
      ],
      "text/plain": [
       "<IPython.core.display.HTML object>"
      ]
     },
     "metadata": {},
     "output_type": "display_data"
    },
    {
     "data": {
      "text/html": [
       "Tracking run with wandb version 0.15.4"
      ],
      "text/plain": [
       "<IPython.core.display.HTML object>"
      ]
     },
     "metadata": {},
     "output_type": "display_data"
    },
    {
     "data": {
      "text/html": [
       "Run data is saved locally in <code>/home/laurar/brain_age_1D-CNN/src/schaefer_ts/wandb/run-20240307_170345-0k6oxfm1</code>"
      ],
      "text/plain": [
       "<IPython.core.display.HTML object>"
      ]
     },
     "metadata": {},
     "output_type": "display_data"
    },
    {
     "data": {
      "text/html": [
       "Syncing run <strong><a href='https://wandb.ai/students/lightweight-brain-age-prediction/runs/0k6oxfm1' target=\"_blank\">7n100p_original</a></strong> to <a href='https://wandb.ai/students/lightweight-brain-age-prediction' target=\"_blank\">Weights & Biases</a> (<a href='https://wandb.me/run' target=\"_blank\">docs</a>)<br/>"
      ],
      "text/plain": [
       "<IPython.core.display.HTML object>"
      ]
     },
     "metadata": {},
     "output_type": "display_data"
    },
    {
     "data": {
      "text/html": [
       " View project at <a href='https://wandb.ai/students/lightweight-brain-age-prediction' target=\"_blank\">https://wandb.ai/students/lightweight-brain-age-prediction</a>"
      ],
      "text/plain": [
       "<IPython.core.display.HTML object>"
      ]
     },
     "metadata": {},
     "output_type": "display_data"
    },
    {
     "data": {
      "text/html": [
       " View run at <a href='https://wandb.ai/students/lightweight-brain-age-prediction/runs/0k6oxfm1' target=\"_blank\">https://wandb.ai/students/lightweight-brain-age-prediction/runs/0k6oxfm1</a>"
      ],
      "text/plain": [
       "<IPython.core.display.HTML object>"
      ]
     },
     "metadata": {},
     "output_type": "display_data"
    },
    {
     "name": "stderr",
     "output_type": "stream",
     "text": [
      "/home/laurar/anaconda3/envs/cuda02/lib/python3.10/site-packages/pytorch_lightning/loggers/wandb.py:395: UserWarning: There is a wandb run already in progress and newly created instances of `WandbLogger` will reuse this run. If this is not desired, call `wandb.finish()` before instantiating `WandbLogger`.\n",
      "  rank_zero_warn(\n",
      "GPU available: True (cuda), used: True\n",
      "TPU available: False, using: 0 TPU cores\n",
      "IPU available: False, using: 0 IPUs\n",
      "HPU available: False, using: 0 HPUs\n",
      "/home/laurar/anaconda3/envs/cuda02/lib/python3.10/site-packages/pytorch_lightning/utilities/parsing.py:197: UserWarning: Attribute 'activation' is an instance of `nn.Module` and is already saved during checkpointing. It is recommended to ignore them using `self.save_hyperparameters(ignore=['activation'])`.\n",
      "  rank_zero_warn(\n",
      "/home/laurar/anaconda3/envs/cuda02/lib/python3.10/site-packages/pytorch_lightning/utilities/parsing.py:197: UserWarning: Attribute 'loss' is an instance of `nn.Module` and is already saved during checkpointing. It is recommended to ignore them using `self.save_hyperparameters(ignore=['loss'])`.\n",
      "  rank_zero_warn(\n",
      "LOCAL_RANK: 0 - CUDA_VISIBLE_DEVICES: [0,1,2,3,4,5,6,7]\n",
      "\n",
      "  | Name    | Type       | Params\n",
      "---------------------------------------\n",
      "0 | act     | ReLU       | 0     \n",
      "1 | loss    | MSELoss    | 0     \n",
      "2 | maxpool | MaxPool1d  | 0     \n",
      "3 | encoder | Sequential | 411 K \n",
      "4 | decoder | Sequential | 24.1 K\n",
      "---------------------------------------\n",
      "435 K     Trainable params\n",
      "0         Non-trainable params\n",
      "435 K     Total params\n",
      "1.741     Total estimated model params size (MB)\n"
     ]
    },
    {
     "data": {
      "application/vnd.jupyter.widget-view+json": {
       "model_id": "",
       "version_major": 2,
       "version_minor": 0
      },
      "text/plain": [
       "Sanity Checking: 0it [00:00, ?it/s]"
      ]
     },
     "metadata": {},
     "output_type": "display_data"
    },
    {
     "name": "stderr",
     "output_type": "stream",
     "text": [
      "/home/laurar/anaconda3/envs/cuda02/lib/python3.10/site-packages/pytorch_lightning/trainer/connectors/data_connector.py:430: PossibleUserWarning: The dataloader, val_dataloader, does not have many workers which may be a bottleneck. Consider increasing the value of the `num_workers` argument` (try 16 which is the number of cpus on this machine) in the `DataLoader` init to improve performance.\n",
      "  rank_zero_warn(\n",
      "/home/laurar/anaconda3/envs/cuda02/lib/python3.10/site-packages/pytorch_lightning/trainer/connectors/logger_connector/result.py:212: UserWarning: You called `self.log('best_val_loss', ...)` in your `on_validation_epoch_end` but the value needs to be floating point. Converting it to torch.float32.\n",
      "  warning_cache.warn(\n",
      "/home/laurar/anaconda3/envs/cuda02/lib/python3.10/site-packages/pytorch_lightning/trainer/connectors/data_connector.py:430: PossibleUserWarning: The dataloader, train_dataloader, does not have many workers which may be a bottleneck. Consider increasing the value of the `num_workers` argument` (try 16 which is the number of cpus on this machine) in the `DataLoader` init to improve performance.\n",
      "  rank_zero_warn(\n"
     ]
    },
    {
     "data": {
      "application/vnd.jupyter.widget-view+json": {
       "model_id": "ae3fa75ed73749dca316a3fe0cfe612c",
       "version_major": 2,
       "version_minor": 0
      },
      "text/plain": [
       "Training: 0it [00:00, ?it/s]"
      ]
     },
     "metadata": {},
     "output_type": "display_data"
    }
   ],
   "source": [
    "%%time\n",
    "model_7n100p, datamodule_7n100p = wandb_utils.wandb_train(config_7n100p_original)"
   ]
  },
  {
   "cell_type": "code",
   "execution_count": null,
   "id": "5b1e3cdc-066a-4a96-bf8f-f1132bc20b93",
   "metadata": {},
   "outputs": [],
   "source": [
    "wandb_utils.wandb_test(model7n100p, datamodule_7n100p)"
   ]
  },
  {
   "cell_type": "markdown",
   "id": "baf088d3-09ee-4f8e-b6a2-513589893293",
   "metadata": {},
   "source": [
    "17n100p with original settings (from ICA hyperparameter tuning)"
   ]
  },
  {
   "cell_type": "code",
   "execution_count": null,
   "id": "d4e6d7e1-51ec-40b8-9af7-e128b0b5b6b5",
   "metadata": {},
   "outputs": [],
   "source": [
    "%%time\n",
    "model_17n100p, datamodule_17n100p = wandb_utils.wandb_train(config_17n100p_original)"
   ]
  },
  {
   "cell_type": "code",
   "execution_count": null,
   "id": "eaffdca6-728c-4148-aded-82b4ca93bb3b",
   "metadata": {},
   "outputs": [],
   "source": [
    "wandb_utils.wandb_test(model17n100p, datamodule_17n100p)"
   ]
  },
  {
   "cell_type": "code",
   "execution_count": null,
   "id": "f316f3a7-8bc1-49d6-bdc1-f167ec432654",
   "metadata": {},
   "outputs": [],
   "source": []
  }
 ],
 "metadata": {
  "kernelspec": {
   "display_name": "Python 3 (ipykernel)",
   "language": "python",
   "name": "python3"
  },
  "language_info": {
   "codemirror_mode": {
    "name": "ipython",
    "version": 3
   },
   "file_extension": ".py",
   "mimetype": "text/x-python",
   "name": "python",
   "nbconvert_exporter": "python",
   "pygments_lexer": "ipython3",
   "version": "3.10.9"
  }
 },
 "nbformat": 4,
 "nbformat_minor": 5
}
