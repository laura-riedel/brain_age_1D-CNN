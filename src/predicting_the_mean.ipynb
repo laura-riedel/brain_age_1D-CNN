{
 "cells": [
  {
   "cell_type": "markdown",
   "id": "ca490d19-ea85-4111-b86f-2b93add73611",
   "metadata": {},
   "source": [
    "# Dumbest of baselines: Predicting the mean"
   ]
  },
  {
   "cell_type": "code",
   "execution_count": 1,
   "id": "b5dab4f8-428b-47fc-9e35-a5d9353ea4bc",
   "metadata": {},
   "outputs": [],
   "source": [
    "import numpy as np\n",
    "from brain_age_prediction import sklearn_utils"
   ]
  },
  {
   "cell_type": "markdown",
   "id": "67ad0b82-ba91-48eb-8d2e-e63902e4022c",
   "metadata": {},
   "source": [
    "Note: ICA -->\n",
    "- mean on train, tested on test: 6.495\n",
    "- mean on test, tested on test: 6.591"
   ]
  },
  {
   "cell_type": "code",
   "execution_count": 2,
   "id": "86cfbcbc-89d2-4d00-a055-b32d8c9619d0",
   "metadata": {},
   "outputs": [],
   "source": [
    "def mean_abs_error(y_train, y_test):\n",
    "    return np.mean(abs(np.mean(y_train)-y_test))"
   ]
  },
  {
   "cell_type": "code",
   "execution_count": 3,
   "id": "6775abd0-8e9a-4220-a613-627608c05097",
   "metadata": {},
   "outputs": [
    {
     "name": "stdout",
     "output_type": "stream",
     "text": [
      "MODEL PERFORMANCE: MEAN ON \"TRAIN\", TESTED ON \"TEST\"\n",
      "> mae: 6.6360253909942735\n",
      "\n",
      "MODEL PERFORMANCE: MEAN ON \"TRAIN\" AND \"VAL\", TESTED ON \"TEST\"\n",
      "> mae: 6.6372619732858915\n",
      "\n",
      "MODEL PERFORMANCE: MEAN ON \"TEST\", TESTED ON \"TEST\"\n",
      "> mae: 6.627692872630623\n",
      "\n"
     ]
    }
   ],
   "source": [
    "# load exemplary datasplit\n",
    "_, y_train, _, y_val, _, y_test = sklearn_utils.access_dataset('7n100p')\n",
    "# calculate mean absolute errors\n",
    "print('MODEL PERFORMANCE: MEAN ON \"TRAIN\", TESTED ON \"TEST\"')\n",
    "print(f'> mae: {mean_abs_error(y_train, y_test)}\\n')\n",
    "print('MODEL PERFORMANCE: MEAN ON \"TRAIN\" AND \"VAL\", TESTED ON \"TEST\"')\n",
    "print(f'> mae: {mean_abs_error(np.append(y_train, y_val), y_test)}\\n')\n",
    "print('MODEL PERFORMANCE: MEAN ON \"TEST\", TESTED ON \"TEST\"')\n",
    "print(f'> mae: {mean_abs_error(y_test, y_test)}\\n')"
   ]
  },
  {
   "cell_type": "code",
   "execution_count": null,
   "id": "5d9c8821-690c-471f-988b-56cd5d859b65",
   "metadata": {},
   "outputs": [],
   "source": []
  }
 ],
 "metadata": {
  "kernelspec": {
   "display_name": "Python 3 (ipykernel)",
   "language": "python",
   "name": "python3"
  },
  "language_info": {
   "codemirror_mode": {
    "name": "ipython",
    "version": 3
   },
   "file_extension": ".py",
   "mimetype": "text/x-python",
   "name": "python",
   "nbconvert_exporter": "python",
   "pygments_lexer": "ipython3",
   "version": "3.10.14"
  }
 },
 "nbformat": 4,
 "nbformat_minor": 5
}
