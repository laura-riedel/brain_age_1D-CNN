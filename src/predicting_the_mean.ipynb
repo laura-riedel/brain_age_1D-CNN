{
 "cells": [
  {
   "cell_type": "markdown",
   "id": "ca490d19-ea85-4111-b86f-2b93add73611",
   "metadata": {},
   "source": [
    "# Dumbest of baselines: Predicting the mean"
   ]
  },
  {
   "cell_type": "code",
   "execution_count": 1,
   "id": "b5dab4f8-428b-47fc-9e35-a5d9353ea4bc",
   "metadata": {},
   "outputs": [],
   "source": [
    "import numpy as np\n",
    "import pandas as pd\n",
    "from sklearn.metrics import mean_absolute_error, mean_squared_error, r2_score\n",
    "from brain_age_prediction import sklearn_utils"
   ]
  },
  {
   "cell_type": "markdown",
   "id": "67ad0b82-ba91-48eb-8d2e-e63902e4022c",
   "metadata": {},
   "source": [
    "Note: ICA -->\n",
    "- mean on train, tested on test: 6.495\n",
    "- mean on test, tested on test: 6.591"
   ]
  },
  {
   "cell_type": "code",
   "execution_count": 2,
   "id": "ad986da4",
   "metadata": {},
   "outputs": [],
   "source": [
    "def get_mean_predictions(input_age_array, test_age_array):\n",
    "    \"\"\"\n",
    "    Fills a given array of subjects' ages with the mean age of that array.\n",
    "    Input:\n",
    "        input_age_array: 1D array of subjects' ages.\n",
    "    Output:\n",
    "        array of mean age \"predictions\".\n",
    "    \"\"\"\n",
    "    mean_age = np.mean(input_age_array)\n",
    "    return np.full(test_age_array.shape, mean_age)\n",
    "\n",
    "def fill_score(df, row, input_age_array, test_age_array):\n",
    "    \"\"\"\n",
    "    Fills in all scores of a row.\n",
    "    Input:\n",
    "        df: scores dataframe.\n",
    "        row: row of dataframe, either 'train', 'train + val', or 'test'.\n",
    "        input_age_array: corresponding to row, 1D array of subjects' ages.\n",
    "        test_age_array: 1D array of subjects' ages from test split.\n",
    "    Output:\n",
    "        df: updated scores dataframe.\n",
    "    \"\"\"\n",
    "    row_idx = df[df['mean of']==row].index[0]\n",
    "    predictions = get_mean_predictions(input_age_array, test_age_array)\n",
    "    df.loc[row_idx, 'MSE'] = mean_squared_error(test_age_array, predictions)\n",
    "    df.loc[row_idx, 'MAE'] = mean_absolute_error(test_age_array, predictions)\n",
    "    df.loc[row_idx, 'R2'] = r2_score(test_age_array, predictions)\n",
    "    return df\n",
    "\n",
    "def get_prediction_scores(train_age_array, val_age_array, test_age_array):\n",
    "    print('MODEL PERFORMANCE: MEAN OF SPLIT X TESTED ON TEST SPLIT')\n",
    "    scores_df = pd.DataFrame([['train',0,0,0],['train + val',0,0,0],['test',0,0,0]],\n",
    "                             columns=['mean of','MSE','MAE','R2'])\n",
    "    train_val_age_array = np.append(train_age_array, val_age_array)\n",
    "    # fill in scores_df\n",
    "    scores_df = fill_score(scores_df, 'train', train_age_array, test_age_array)\n",
    "    scores_df = fill_score(scores_df, 'train + val', train_val_age_array, test_age_array)\n",
    "    scores_df = fill_score(scores_df, 'test', test_age_array, test_age_array)\n",
    "    return scores_df"
   ]
  },
  {
   "cell_type": "code",
   "execution_count": 3,
   "id": "6540ff5c",
   "metadata": {},
   "outputs": [],
   "source": [
    "# load exemplary datasplit\n",
    "_, y_train, _, y_val, _, y_test = sklearn_utils.access_dataset('7n100p')"
   ]
  },
  {
   "cell_type": "code",
   "execution_count": 4,
   "id": "b51e10fa",
   "metadata": {},
   "outputs": [
    {
     "name": "stdout",
     "output_type": "stream",
     "text": [
      "MODEL PERFORMANCE: MEAN OF SPLIT X TESTED ON TEST SPLIT\n"
     ]
    },
    {
     "data": {
      "text/html": [
       "<div>\n",
       "<style scoped>\n",
       "    .dataframe tbody tr th:only-of-type {\n",
       "        vertical-align: middle;\n",
       "    }\n",
       "\n",
       "    .dataframe tbody tr th {\n",
       "        vertical-align: top;\n",
       "    }\n",
       "\n",
       "    .dataframe thead th {\n",
       "        text-align: right;\n",
       "    }\n",
       "</style>\n",
       "<table border=\"1\" class=\"dataframe\">\n",
       "  <thead>\n",
       "    <tr style=\"text-align: right;\">\n",
       "      <th></th>\n",
       "      <th>mean of</th>\n",
       "      <th>MSE</th>\n",
       "      <th>MAE</th>\n",
       "      <th>R2</th>\n",
       "    </tr>\n",
       "  </thead>\n",
       "  <tbody>\n",
       "    <tr>\n",
       "      <th>0</th>\n",
       "      <td>train</td>\n",
       "      <td>62.097906</td>\n",
       "      <td>6.636025</td>\n",
       "      <td>-0.000126</td>\n",
       "    </tr>\n",
       "    <tr>\n",
       "      <th>1</th>\n",
       "      <td>train + val</td>\n",
       "      <td>62.100395</td>\n",
       "      <td>6.637262</td>\n",
       "      <td>-0.000166</td>\n",
       "    </tr>\n",
       "    <tr>\n",
       "      <th>2</th>\n",
       "      <td>test</td>\n",
       "      <td>62.090102</td>\n",
       "      <td>6.627693</td>\n",
       "      <td>0.000000</td>\n",
       "    </tr>\n",
       "  </tbody>\n",
       "</table>\n",
       "</div>"
      ],
      "text/plain": [
       "       mean of        MSE       MAE        R2\n",
       "0        train  62.097906  6.636025 -0.000126\n",
       "1  train + val  62.100395  6.637262 -0.000166\n",
       "2         test  62.090102  6.627693  0.000000"
      ]
     },
     "execution_count": 4,
     "metadata": {},
     "output_type": "execute_result"
    }
   ],
   "source": [
    "get_prediction_scores(y_train, y_val, y_test)"
   ]
  },
  {
   "cell_type": "code",
   "execution_count": null,
   "id": "5d9c8821-690c-471f-988b-56cd5d859b65",
   "metadata": {},
   "outputs": [],
   "source": []
  }
 ],
 "metadata": {
  "kernelspec": {
   "display_name": "Python 3 (ipykernel)",
   "language": "python",
   "name": "python3"
  },
  "language_info": {
   "codemirror_mode": {
    "name": "ipython",
    "version": 3
   },
   "file_extension": ".py",
   "mimetype": "text/x-python",
   "name": "python",
   "nbconvert_exporter": "python",
   "pygments_lexer": "ipython3",
   "version": "3.10.14"
  }
 },
 "nbformat": 4,
 "nbformat_minor": 5
}
